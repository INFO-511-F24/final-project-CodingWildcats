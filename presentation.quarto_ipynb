{
  "cells": [
    {
      "cell_type": "markdown",
      "metadata": {},
      "source": [
        "---\n",
        "title: \"Stroke Prediction Based on Demographics and Medical History\"\n",
        "subtitle: \"INFO 511 - Fall 2024 - Final Project\"\n",
        "author: \"Danielle Stea, Erika Kirkpatrick, Kai Shuen Neo, Sahand Motamenim, Rohit Kalakala\"\n",
        "title-slide-attributes:\n",
        "  data-background-image: images/watercolour_sys02_img34_teacup-ocean.jpg\n",
        "  data-background-size: stretch\n",
        "  data-background-opacity: \"0.7\"\n",
        "  data-slide-number: none\n",
        "format:\n",
        "  revealjs:\n",
        "    theme:  ['data/customtheming.scss']\n",
        "  \n",
        "editor: visual\n",
        "execute:\n",
        "  echo: false\n",
        "jupyter: python3\n",
        "---"
      ],
      "id": "d45a2174"
    },
    {
      "cell_type": "code",
      "metadata": {},
      "source": [
        "#| label: load-packages\n",
        "#| include: false\n",
        "\n",
        "# Load packages here\n",
        "import pandas as pd\n",
        "import seaborn as sns\n",
        "import numpy as np\n",
        "import matplotlib.pyplot as plt\n",
        "from sklearn.preprocessing import LabelEncoder\n",
        "from sklearn.model_selection import train_test_split\n",
        "from sklearn.linear_model import LogisticRegression\n",
        "from sklearn.metrics import confusion_matrix\n",
        "from sklearn.metrics import accuracy_score\n",
        "from sklearn.model_selection import train_test_split, cross_val_score, KFold\n",
        "from sklearn.metrics import r2_score\n",
        "from sklearn.ensemble import RandomForestClassifier\n",
        "from sklearn.tree import DecisionTreeClassifier\n",
        "from sklearn.svm import SVC\n",
        "from sklearn.neural_network import MLPClassifier\n",
        "from sklearn.linear_model import LogisticRegression\n",
        "from sklearn.preprocessing import LabelEncoder"
      ],
      "id": "load-packages",
      "execution_count": null,
      "outputs": []
    },
    {
      "cell_type": "code",
      "metadata": {},
      "source": [
        "#| label: setup\n",
        "#| include: false\n",
        "# Set up plot theme and figure resolution\n",
        "sns.set_theme(style=\"whitegrid\")\n",
        "sns.set_context(\"notebook\", font_scale=1.1)\n",
        "\n",
        "import matplotlib.pyplot as plt\n",
        "plt.rcParams['figure.dpi'] = 300\n",
        "plt.rcParams['savefig.dpi'] = 300\n",
        "plt.rcParams['figure.figsize'] = (6, 6 * 0.618)"
      ],
      "id": "setup",
      "execution_count": null,
      "outputs": []
    },
    {
      "cell_type": "code",
      "metadata": {},
      "source": [
        "#| label: load-data\n",
        "#| include: false\n",
        "# Load data in Python\n",
        "stroke = pd.read_csv(\"data/healthcare-dataset-stroke-data.csv\")"
      ],
      "id": "load-data",
      "execution_count": null,
      "outputs": []
    },
    {
      "cell_type": "markdown",
      "metadata": {},
      "source": [
        "# Stroke Prediction with Machine Learning\n",
        "\n",
        "## Introduction\n",
        "\n",
        "-   The data set we have decided to use is from a study published in China in 2020. It represents a case group of individuals who had a stroke, and a control group of those who did not.\n",
        "\n",
        "-   The data set has 12 columns, with observations including demographic information such as age, gender, marital status, and employment status, as well as medical information such as BMI, glucose levels, smoking history, etc."
      ],
      "id": "290dec71"
    },
    {
      "cell_type": "code",
      "metadata": {},
      "source": [
        "print(stroke.head())"
      ],
      "id": "0ecf39d5",
      "execution_count": null,
      "outputs": []
    },
    {
      "cell_type": "markdown",
      "metadata": {},
      "source": [
        "## Layouts\n",
        "\n",
        "You can use plain text\n",
        "\n",
        "::::: columns\n",
        "::: {.column width=\"40%\"}\n",
        "-   or bullet points[^1]\n",
        ":::\n",
        "\n",
        "::: {.column width=\"60%\"}\n",
        "or in two columns\n",
        ":::\n",
        ":::::\n",
        "\n",
        "[^1]: And add footnotes\n",
        "\n",
        "-   like\n",
        "\n",
        "-   this\n",
        "\n",
        "## Code\n"
      ],
      "id": "32d46719"
    },
    {
      "cell_type": "code",
      "metadata": {},
      "source": [
        "print(stroke.head())"
      ],
      "id": "403da753",
      "execution_count": null,
      "outputs": []
    },
    {
      "cell_type": "markdown",
      "metadata": {},
      "source": [
        "## Plots\n"
      ],
      "id": "bc95aba3"
    },
    {
      "cell_type": "code",
      "metadata": {},
      "source": [
        "#penguins['species'] = penguins['species'].apply(lambda x: \"Adelie\" if x == \"Adelie\" else \"Other\")\n",
        "#sns.scatterplot(data=penguins, x='flipper_length_mm', y='body_mass_g', hue='species')\n",
        "#plt.show()"
      ],
      "id": "9bfaa358",
      "execution_count": null,
      "outputs": []
    },
    {
      "cell_type": "markdown",
      "metadata": {},
      "source": [
        "## Plot and text\n",
        "\n",
        "::::: columns\n",
        "::: {.column width=\"50%\"}\n",
        "-   Some text\n",
        "\n",
        "-   goes here\n",
        ":::\n",
        "\n",
        "::: {.column width=\"50%\"}"
      ],
      "id": "351b799b"
    },
    {
      "cell_type": "code",
      "metadata": {
        "fig.width": 5.5
      },
      "source": [
        "#| warning: false\n",
        "fig, ax = plt.subplots(figsize=(5.5, 5.5 * 0.618))\n",
        "sns.boxplot(data=penguins, x='bill_length_mm', y='species', hue='species', ax=ax)\n",
        "plt.show()"
      ],
      "id": "b2daf09a",
      "execution_count": null,
      "outputs": []
    },
    {
      "cell_type": "markdown",
      "metadata": {},
      "source": [
        ":::\n",
        ":::::\n",
        "\n",
        "# A new section...\n",
        "\n",
        "## Tables\n",
        "\n",
        "If you want to generate a table, make sure it is in the HTML format (instead of Markdown or other formats), e.g.,\n"
      ],
      "id": "a89411f3"
    },
    {
      "cell_type": "code",
      "metadata": {},
      "source": [
        "#penguins.head().to_html()"
      ],
      "id": "349610a9",
      "execution_count": null,
      "outputs": []
    },
    {
      "cell_type": "markdown",
      "metadata": {},
      "source": [
        "## Images\n",
        "\n",
        "![Image credit: Danielle Navarro, Percolate.](images/watercolour_sys02_img34_teacup-ocean.png){fig-align=\"center\" width=\"500\"}\n",
        "\n",
        "## Math Expressions {.smaller}\n",
        "\n",
        "You can write LaTeX math expressions inside a pair of dollar signs, e.g. \\$\\\\alpha+\\\\beta\\$ renders $\\alpha + \\beta$. You can use the display style with double dollar signs:\n",
        "\n",
        "```         \n",
        "$$\\bar{X}=\\frac{1}{n}\\sum_{i=1}^nX_i$$\n",
        "```\n",
        "\n",
        "$$\n",
        "\\bar{X}=\\frac{1}{n}\\sum_{i=1}^nX_i\n",
        "$$\n",
        "\n",
        "Limitations:\n",
        "\n",
        "1.  The source code of a LaTeX math expression must be in one line, unless it is inside a pair of double dollar signs, in which case the starting `$$` must appear in the very beginning of a line, followed immediately by a non-space character, and the ending `$$` must be at the end of a line, led by a non-space character;\n",
        "\n",
        "2.  There should not be spaces after the opening `$` or before the closing `$`.\n",
        "\n",
        "# Wrap up\n",
        "\n",
        "## Feeling adventurous?\n",
        "\n",
        "-   You are welcomed to use the default styling of the slides. In fact, that's what I expect majority of you will do. You will differentiate yourself with the content of your presentation.\n",
        "\n",
        "-   But some of you might want to play around with slide styling. Some solutions for this can be found at https://quarto.org/docs/presentations/revealjs."
      ],
      "id": "9af3a868"
    }
  ],
  "metadata": {
    "kernelspec": {
      "name": "python3",
      "language": "python",
      "display_name": "Python 3 (ipykernel)",
      "path": "/Users/ella/Library/Python/3.12/share/jupyter/kernels/python3"
    }
  },
  "nbformat": 4,
  "nbformat_minor": 5
}